{
 "cells": [
  {
   "cell_type": "markdown",
   "metadata": {},
   "source": [
    "# Identify Fraud from Enron Emails and Financial Data\n",
    "### Background\n",
    "Enron Corporation was an American energy, commodities, and services company based in Houston, Texas. And it was one of the largest companies in the United States in 2000. By 2002, it had collapsed into bankruptcy due to large amount of accounting and corporate corporate fraud. Its collapse affected thousands of its employees, shook Wall Street and influenced the whole Western economic system.\n",
    "\n",
    "In this project, a person of interest identifier will be built using the financial and email data made public as a result of the Enron scandal. "
   ]
  },
  {
   "cell_type": "markdown",
   "metadata": {},
   "source": [
    "### Data Exploration"
   ]
  },
  {
   "cell_type": "code",
   "execution_count": 2,
   "metadata": {
    "collapsed": false
   },
   "outputs": [],
   "source": [
    "# %load poi_id.py\n",
    "#!/usr/bin/python\n",
    "import sys\n",
    "import pickle\n",
    "sys.path.append(\"../tools/\")\n",
    "\n",
    "from feature_format import featureFormat, targetFeatureSplit\n",
    "from tester import dump_classifier_and_data\n"
   ]
  },
  {
   "cell_type": "code",
   "execution_count": 3,
   "metadata": {
    "collapsed": true
   },
   "outputs": [],
   "source": [
    "# Load the dictionary containing the dataset\n",
    "with open(\"final_project_dataset.pkl\", \"r\") as data_file:\n",
    "    data_dict = pickle.load(data_file)\n",
    "    "
   ]
  },
  {
   "cell_type": "code",
   "execution_count": 4,
   "metadata": {
    "collapsed": false
   },
   "outputs": [],
   "source": [
    "# Task 1: Select what features you'll use.\n",
    "# features_list is a list of strings, each of which is a feature name.\n",
    "# The first feature must be \"poi\".\n",
    "poi = ['poi']\n",
    "financial_features_list = ['salary', \n",
    "                           'deferral_payments', \n",
    "                           'total_payments', \n",
    "                           'loan_advances', 'bonus', \n",
    "                           'restricted_stock_deferred',\n",
    "                           'deferred_income', \n",
    "                           'total_stock_value', \n",
    "                           'expenses', \n",
    "                           'exercised_stock_options', \n",
    "                           'other', \n",
    "                           'long_term_incentive', \n",
    "                           'restricted_stock', \n",
    "                           'director_fees'] \n",
    "email_features_list = ['to_messages', \n",
    "                       'email_address',\n",
    "                       'from_poi_to_this_person',\n",
    "                       'from_messages', \n",
    "                       'from_this_person_to_poi',\n",
    "                       'shared_receipt_with_poi']\n",
    "    \n",
    "features_list = poi + financial_features_list +email_features_list\n"
   ]
  },
  {
   "cell_type": "code",
   "execution_count": 5,
   "metadata": {
    "collapsed": false
   },
   "outputs": [
    {
     "name": "stdout",
     "output_type": "stream",
     "text": [
      "\n",
      "Number of data points:  146\n",
      "Number of Person of Interest:  18\n",
      "Number of non Person of Interest:  128\n",
      "Precetage of Person of Interest in the dataset:  14.0625 %\n"
     ]
    }
   ],
   "source": [
    "# Total number of data point\n",
    "print\"\"\n",
    "print \"Number of data points: \", len(data_dict.keys())\n",
    "\n",
    "# Allocation across classes (POI/ non-POI)\n",
    "poi = 0\n",
    "for people in data_dict:\n",
    "    if data_dict[people]['poi'] == 1:\n",
    "        poi += 1\n",
    "non_poi = len(data_dict.keys()) - poi\n",
    "print \"Number of Person of Interest: \", poi\n",
    "print \"Number of non Person of Interest: \", non_poi\n",
    "print \"Precetage of Person of Interest in the dataset: \", float(poi)/ non_poi*100,\"%\"\n"
   ]
  },
  {
   "cell_type": "markdown",
   "metadata": {},
   "source": [
    "This dataset contains 146 number of data points, but only 18(14.06%) people are the Person of Interest(POI). The disproportionate number of class instances will arise the class imbalance problem, a common problem in machine learning that the total number of a class of data (positive) is far less than the total number of another class of data (negative). \n",
    "\n",
    "###  Alternative Metrics to Evaluate Algorithm Performance\n",
    "\n",
    "To address the problem, instead of using general accuracy of counting number of mistales, an aternative metrics (Precision, Recall and F1 score) will be used. Precision is used to determine the fraction of relevant instances (True Positive) among the retrieved instances (True Positive + False Positive). In this case, a great precision will be whenever a POI gets flagged in the test set, we have confidence that it is a real POI but not a false alarm. \n",
    "\n",
    "On the other hand, recall is used to detemine the fraction of relevant instances (True Positive) that have been retrieved over total relevant instances (True Positive + False Negative). For example, a great recall will be the identifier can successfully identify the POI everytimes he/ she shows up in the test set. \n",
    "\n",
    "F1 score is the a measure that combines precision and recall and is the harmonic mean of precision and recall. A great F1 score what we prefer as both the False Positive abd False Negative rates are low. In such case, if the identifier finds a POI, then the person is almost certainly a POI; and if the identifier does not flag someone, then he/ she are almost certainly not a POI. "
   ]
  },
  {
   "cell_type": "code",
   "execution_count": 6,
   "metadata": {
    "collapsed": false
   },
   "outputs": [
    {
     "name": "stdout",
     "output_type": "stream",
     "text": [
      "Number of features:  21\n",
      "Missing values of each features:\n",
      "                           Missing value  Percentage\n",
      "loan_advances                        142    0.972603\n",
      "director_fees                        129    0.883562\n",
      "restricted_stock_deferred            128    0.876712\n",
      "deferral_payments                    107    0.732877\n",
      "deferred_income                       97    0.664384\n",
      "long_term_incentive                   80    0.547945\n",
      "bonus                                 64    0.438356\n",
      "to_messages                           60    0.410959\n",
      "shared_receipt_with_poi               60    0.410959\n",
      "from_messages                         60    0.410959\n",
      "from_poi_to_this_person               60    0.410959\n",
      "from_this_person_to_poi               60    0.410959\n",
      "other                                 53    0.363014\n",
      "salary                                51    0.349315\n",
      "expenses                              51    0.349315\n",
      "exercised_stock_options               44    0.301370\n",
      "restricted_stock                      36    0.246575\n",
      "email_address                         35    0.239726\n",
      "total_payments                        21    0.143836\n",
      "total_stock_value                     20    0.136986\n",
      "poi                                    0    0.000000\n"
     ]
    }
   ],
   "source": [
    "# Number of features used\n",
    "print \"Number of features: \", (len(data_dict[people].keys()))\n",
    "\n",
    "# Missing values\n",
    "missing_dict= {}\n",
    "for features in data_dict[people]:\n",
    "    missing_dict[features] = 0\n",
    "\n",
    "for people in data_dict:\n",
    "    for features in data_dict[people]:\n",
    "        if data_dict[people][features] == \"NaN\":\n",
    "            missing_dict[features] += 1\n",
    "\n",
    "print \"Missing values of each features:\"\n",
    "\n",
    "name_list = []\n",
    "score_list = []\n",
    "percentage_list = []\n",
    "for name, score in sorted(missing_dict.iteritems(), key=lambda item:item[1], reverse=True):\n",
    "    name_list.append(name)\n",
    "    score_list.append(score)\n",
    "for value in score_list:\n",
    "    percentage_list.append(value/146.0)\n",
    "import pandas as pd\n",
    "missing_value_table = pd.DataFrame({\"Missing value\": score_list, \"Percentage\": percentage_list}, index = name_list)\n",
    "print missing_value_table\n"
   ]
  },
  {
   "cell_type": "markdown",
   "metadata": {},
   "source": [
    "The dataset has 21 features. These features inlcude financial features, email_features and the label of whether the person is a person of interest. Almost of these features have missing values."
   ]
  },
  {
   "cell_type": "markdown",
   "metadata": {},
   "source": [
    "### Outlier Investigation"
   ]
  },
  {
   "cell_type": "code",
   "execution_count": 7,
   "metadata": {
    "collapsed": false
   },
   "outputs": [
    {
     "data": {
      "image/png": "[encoded data removed]",
      "text/plain": [
       "<matplotlib.figure.Figure at 0x457f710>"
      ]
     },
     "metadata": {},
     "output_type": "display_data"
    }
   ],
   "source": [
    "import matplotlib.pyplot\n",
    "features = [\"salary\", \"bonus\"]\n",
    "data = featureFormat(data_dict, features)\n",
    "\n",
    "\n",
    "### your code below\n",
    "for point in data:\n",
    "    salary = point[0]\n",
    "    bonus = point[1]\n",
    "    matplotlib.pyplot.scatter( salary, bonus )\n",
    "\n",
    "matplotlib.pyplot.xlabel(\"salary\")\n",
    "matplotlib.pyplot.ylabel(\"bonus\")\n",
    "matplotlib.pyplot.show()\n"
   ]
  },
  {
   "cell_type": "code",
   "execution_count": 8,
   "metadata": {
    "collapsed": false
   },
   "outputs": [
    {
     "name": "stdout",
     "output_type": "stream",
     "text": [
      "Data point:  143\n"
     ]
    }
   ],
   "source": [
    "### Task 2: Remove outliers \n",
    "data_dict.pop(\"TOTAL\", \"None\" )\n",
    "\n",
    "# Cleaning the data\n",
    "data_dict.pop(\"THE TRAVEL AGENCY IN THE PARK\", \"None\" )\n",
    "data_dict.pop(\"LOCKHART EUGENE E\", \"None\" )\n",
    "print \"Data point: \", len(data_dict.keys())\n"
   ]
  },
  {
   "cell_type": "code",
   "execution_count": 9,
   "metadata": {
    "collapsed": false
   },
   "outputs": [
    {
     "data": {
      "image/png": "[encoded data removed]",
      "text/plain": [
       "<matplotlib.figure.Figure at 0xb830198>"
      ]
     },
     "metadata": {},
     "output_type": "display_data"
    }
   ],
   "source": [
    "import sys\n",
    "import matplotlib.pyplot\n",
    "features = [\"salary\", \"bonus\"]\n",
    "data = featureFormat(data_dict, features)\n",
    "\n",
    "\n",
    "### your code below\n",
    "for point in data:\n",
    "    salary = point[0]\n",
    "    bonus = point[1]\n",
    "    matplotlib.pyplot.scatter( salary, bonus )\n",
    "\n",
    "matplotlib.pyplot.xlabel(\"salary\")\n",
    "matplotlib.pyplot.ylabel(\"bonus\")\n",
    "matplotlib.pyplot.show()\n"
   ]
  },
  {
   "cell_type": "markdown",
   "metadata": {},
   "source": [
    "The scatter plot has clearly shows that there is a hugh outlier generated by the \"Total\" row, so I removed it from the dataset. I also removed the information of the \"THE TRAVEL AGENCY IN THE PARK\" as it is an agency but not an employee.\n",
    "Futhermore, I removed the entry of \"LOCKHART EUGENE E\" as it contains only missing values. After clearning the data, the dataset remains 143 data points. "
   ]
  },
  {
   "cell_type": "markdown",
   "metadata": {},
   "source": [
    "### Create New Features \n"
   ]
  },
  {
   "cell_type": "code",
   "execution_count": 10,
   "metadata": {
    "collapsed": false
   },
   "outputs": [],
   "source": [
    "# Performance\n",
    "import pickle\n",
    "import sys\n",
    "from sklearn.cross_validation import train_test_split\n",
    "from feature_format import featureFormat, targetFeatureSplit\n",
    "\n",
    "def performance(clf_u, dataset, the_features_list):\n",
    "    # Extract features and labels from dataset for local testing\n",
    "    data = featureFormat(dataset, the_features_list, sort_keys = True)\n",
    "    labels, features = targetFeatureSplit(data)\n",
    "    \n",
    "    features_train, features_test, labels_train, labels_test = \\\n",
    "    train_test_split(features, labels, test_size=0.3, random_state=42)\n",
    "    \n",
    "    true_negatives = 0\n",
    "    false_negatives = 0\n",
    "    true_positives = 0\n",
    "    false_positives = 0\n",
    "       \n",
    "    ### fit the classifier using training set, and test on test set\n",
    "    clf_u.fit(features_train, labels_train)\n",
    "    predictions = clf_u.predict(features_test)\n",
    "    for prediction, truth in zip(predictions, labels_test):\n",
    "        if prediction == 0 and truth == 0:\n",
    "            true_negatives += 1\n",
    "        elif prediction == 0 and truth == 1:\n",
    "            false_negatives += 1\n",
    "        elif prediction == 1 and truth == 0:\n",
    "            false_positives += 1\n",
    "        elif prediction == 1 and truth == 1:\n",
    "            true_positives += 1\n",
    "        else:\n",
    "            print \"Warning: Found a predicted label not == 0 or 1.\"\n",
    "            print \"All predictions should take value 0 or 1.\"\n",
    "            print \"Evaluating performance for processed predictions:\"\n",
    "            break\n",
    "    try:\n",
    "        total_predictions = true_negatives + false_negatives + false_positives + true_positives\n",
    "        accuracy = 1.0*(true_positives + true_negatives)/total_predictions\n",
    "        precision = 1.0*true_positives/(true_positives+false_positives)\n",
    "        recall = 1.0*true_positives/(true_positives+false_negatives)\n",
    "        f1 = 2.0 * true_positives/(2*true_positives + false_positives+false_negatives)\n",
    "        f2 = (1+2.0*2.0) * precision*recall/(4*precision + recall)\n",
    "        return clf_u, accuracy, precision, recall, f1, f2\n",
    "    except:\n",
    "        print \"Got a divide by zero when trying out:\", clf_u\n",
    "        print \"Precision or recall may be undefined due to a lack of true positive predicitons.\"\n",
    "        \n",
    "# print the performance\n",
    "def print_performance(clf, accuracy, precision, recall, f1, f2):\n",
    "    print \"Performance of\", clf\n",
    "    print \"     Accuracy:\", accuracy, \",Precision:\", precision, \",Recall:\", recall, \",F1:\", f1\n",
    "    "
   ]
  },
  {
   "cell_type": "code",
   "execution_count": 11,
   "metadata": {
    "collapsed": false
   },
   "outputs": [],
   "source": [
    "features_list.remove(\"email_address\")\n"
   ]
  },
  {
   "cell_type": "code",
   "execution_count": 12,
   "metadata": {
    "collapsed": false
   },
   "outputs": [
    {
     "name": "stdout",
     "output_type": "stream",
     "text": [
      "The preformance before and after adding the new features:\n",
      "                            Accuracy        F1  Precision  Recall\n",
      "Before adding new features  0.883721  0.444444        0.5     0.4\n",
      "After adding new features   0.883721  0.444444        0.5     0.4\n",
      "Improved:                  -0.000000 -0.000000       -0.0    -0.0\n"
     ]
    }
   ],
   "source": [
    "# performance before adding new features\n",
    "from sklearn.naive_bayes import GaussianNB\n",
    "clf_bnf = GaussianNB()\n",
    "clf_bnf, accuracy_b, precision_b, recall_b, f1_b, f2_b = performance(clf_bnf, data_dict, features_list)\n",
    "\n",
    "# Task 3: Create new feature(s)\n",
    "def computeFraction(poi_messages, all_messages):\n",
    "    \"\"\" given a number messages to/from POI (numerator) \n",
    "        and number of all messages to/from a person (denominator),\n",
    "        return the fraction of messages to/from that person\n",
    "        that are from/to a POI\n",
    "   \"\"\"\n",
    "    if poi_messages != \"NaN\" and all_messages != \"NaN\":\n",
    "        fraction = float(poi_messages)/ all_messages\n",
    "        \n",
    "    else:\n",
    "        fraction = 0\n",
    "    return fraction\n",
    "\n",
    "for name in data_dict:\n",
    "    data_point = data_dict[name]\n",
    "    from_poi_to_this_person = data_point[\"from_poi_to_this_person\"]\n",
    "    to_messages = data_point[\"to_messages\"]\n",
    "    fraction_from_poi = computeFraction(from_poi_to_this_person, to_messages)\n",
    "    data_point[\"fraction_from_poi\"] = fraction_from_poi\n",
    "    from_this_person_to_poi = data_point[\"from_this_person_to_poi\"]\n",
    "    from_messages = data_point[\"from_messages\"]\n",
    "    fraction_to_poi = computeFraction( from_this_person_to_poi, from_messages)\n",
    "    data_point[\"fraction_to_poi\"] = fraction_to_poi\n",
    "features_list = features_list + [\"fraction_from_poi\"] + [\"fraction_to_poi\"] \n",
    "\n",
    "# Store to my_dataset for easy export below.\n",
    "my_dataset = data_dict\n",
    "\n",
    "# performance after adding new features\n",
    "clf_anf = GaussianNB()\n",
    "clf_anf, accuracy, precision, recall, f1, f2 = performance(clf_anf, my_dataset, features_list)\n",
    "\n",
    "# compareing the performance before and after adding the new features \n",
    "accuracy_list = []\n",
    "precision_list = []\n",
    "recall_list =[]\n",
    "f1_list =[]\n",
    "features_status_list = [\"Before adding new features\", \"After adding new features\", \"Improved:\"]\n",
    "accuracy_list = [accuracy_b, accuracy, -(accuracy_b - accuracy)]\n",
    "precision_list = [precision_b, precision, -(precision_b - precision)]\n",
    "recall_list =[recall_b, recall, -(recall_b - recall)]\n",
    "f1_list =[f1_b, f1, -(f1_b - f1)]\n",
    "     \n",
    "status_table_1 = pd.DataFrame({\"Accuracy\": accuracy_list, \"Precision\": precision_list, \n",
    "                             \"Recall\": recall_list, \"F1\": f1_list}, index = features_status_list)\n",
    "print \"The preformance before and after adding the new features:\"\n",
    "print status_table_1\n"
   ]
  },
  {
   "cell_type": "markdown",
   "metadata": {},
   "source": [
    "Since people who have higher frequencies of receiving and sending email with Persons of Interest may also be a Person of Interest too, I create two new features(\"fraction_from_poi\", \"fraction_to_poi\") which caputure the fraction of emails the person sent to Persons of Interest and the fraction of emails received from Persons of interest. Although the performance has not improved in the mean time, one of the new features, \"fraction_to_poi\", turns out to be relatively important and has been choosed in the SelectKBest feature selection."
   ]
  },
  {
   "cell_type": "markdown",
   "metadata": {},
   "source": [
    "### Feature Scaling"
   ]
  },
  {
   "cell_type": "code",
   "execution_count": 13,
   "metadata": {
    "collapsed": false
   },
   "outputs": [],
   "source": [
    "# Extract features and labels from dataset for local testing\n",
    "data = featureFormat(my_dataset, features_list, sort_keys = True)\n",
    "labels, features = targetFeatureSplit(data)\n",
    "\n",
    "# feature scaling\n",
    "from sklearn.preprocessing import MinMaxScaler\n",
    "scaler = MinMaxScaler()\n",
    "features= scaler.fit_transform(features)\n",
    "                               "
   ]
  },
  {
   "cell_type": "code",
   "execution_count": 14,
   "metadata": {
    "collapsed": false
   },
   "outputs": [
    {
     "name": "stdout",
     "output_type": "stream",
     "text": [
      "The preformance before and after feature selection:\n",
      "                        Accuracy        F1  Precision  Recall\n",
      "Before feature scaling  0.883721  0.444444        0.5     0.4\n",
      "After feature scaling   0.883721  0.444444        0.5     0.4\n",
      "Improved:              -0.000000 -0.000000       -0.0    -0.0\n"
     ]
    }
   ],
   "source": [
    "clf_bfs = GaussianNB()\n",
    "clf_bfs, accuracy_s, precision_s, recall_s, f1_s, f2_s = performance(clf_bfs, my_dataset, features_list)\n",
    "\n",
    "features_status_list = [\"Before feature scaling\", \"After feature scaling\", \"Improved:\"]\n",
    "accuracy_list = [accuracy, accuracy_s, -(accuracy - accuracy_s)]\n",
    "precision_list = [precision, precision_s, -(precision - precision_s)]\n",
    "recall_list =[recall, recall_s, -(recall - recall_s)]\n",
    "f1_list =[f1, f1_s, -(f1 - f1_s)]\n",
    "     \n",
    "status_table_2 = pd.DataFrame({\"Accuracy\": accuracy_list, \"Precision\": precision_list, \n",
    "                             \"Recall\": recall_list, \"F1\": f1_list}, index = features_status_list)\n",
    "print \"The preformance before and after feature selection:\"\n",
    "print status_table_2\n"
   ]
  },
  {
   "cell_type": "markdown",
   "metadata": {
    "collapsed": true
   },
   "source": [
    "Feature scaling is a method used to standardize the range of independent variables or features of data. The table shows the preformance does not improve after scaling the features as Gaussian Naive Bayes has been used as the classifier, and its parameter estimation doesn't involve optimization. The reason feature scaling has been performed as KMeans Clustering will be attempted to compare the performance between different algorithms, and this classfiwe will trade off one-dimension to the other when calculating the distance. "
   ]
  },
  {
   "cell_type": "markdown",
   "metadata": {},
   "source": [
    "### Feature Selection"
   ]
  },
  {
   "cell_type": "code",
   "execution_count": 15,
   "metadata": {
    "collapsed": false
   },
   "outputs": [
    {
     "name": "stdout",
     "output_type": "stream",
     "text": [
      "The features and feature scores:\n",
      "                               Score\n",
      "exercised_stock_options    24.815080\n",
      "total_stock_value          24.182899\n",
      "bonus                      20.792252\n",
      "salary                     18.289684\n",
      "fraction_to_poi            16.409713\n",
      "deferred_income            11.458477\n",
      "long_term_incentive         9.922186\n",
      "restricted_stock            9.212811\n",
      "total_payments              8.772778\n",
      "shared_receipt_with_poi     8.589421\n",
      "loan_advances               7.184056\n",
      "expenses                    6.094173\n",
      "from_poi_to_this_person     5.243450\n",
      "other                       4.187478\n",
      "fraction_from_poi           3.128092\n",
      "from_this_person_to_poi     2.382612\n",
      "director_fees               2.126328\n",
      "to_messages                 1.646341\n",
      "deferral_payments           0.224611\n",
      "from_messages               0.169701\n",
      "restricted_stock_deferred   0.065500\n"
     ]
    }
   ],
   "source": [
    "# Univariate feature selection: SelectKBest\n",
    "from sklearn.feature_selection import SelectKBest\n",
    "def select_k_best(data_dict, features_list, num_features):\n",
    "    data = featureFormat(data_dict, features_list)\n",
    "    label, features = targetFeatureSplit(data)\n",
    "\n",
    "    clf = SelectKBest(k = num_features)\n",
    "    clf = clf.fit(features, label)\n",
    "    features_weights = {}\n",
    "    for index, feature in enumerate(clf.scores_):\n",
    "        features_weights[features_list[1:][index]] = feature\n",
    "    best_features = sorted(features_weights.items(), key = lambda k: k[1], reverse = True)[:num_features]\n",
    "    new_features_list = []\n",
    "    score_list = []\n",
    "    for feature, score in best_features:\n",
    "        new_features_list.append(feature)\n",
    "        score_list.append(score)\n",
    "        #print feature, \": \", score\n",
    "    return new_features_list, score_list\n",
    "\n",
    "# Full list of features\n",
    "import pandas as pd\n",
    "new_features_list, score_list = select_k_best(data_dict, features_list, 21)\n",
    "select_k_best_table = pd.DataFrame({\"Score\": score_list}, index = new_features_list)\n",
    "print \"The features and feature scores:\"\n",
    "print select_k_best_table\n"
   ]
  },
  {
   "cell_type": "markdown",
   "metadata": {},
   "source": [
    "The univariate feature selection is deployed and the SelectKBest is used as the automated feature selection function. The result shows that the feature scores ranged from 24.82 to 0.07. The \"Exercised Stock Options\" feature has the highest score(24.82), while the \"Restricted Stock Deferred\" feature has the lowest score(0.07). "
   ]
  },
  {
   "cell_type": "code",
   "execution_count": 16,
   "metadata": {
    "collapsed": false
   },
   "outputs": [
    {
     "name": "stdout",
     "output_type": "stream",
     "text": [
      "The performance of different numbers of best features included in the model:\n",
      "    Accuracy        F1  Precision  Recall\n",
      "5   0.825000  0.222222       0.25     0.2\n",
      "6   0.880952  0.545455       0.60     0.5\n",
      "7   0.880952  0.545455       0.60     0.5\n",
      "8   0.880952  0.545455       0.60     0.5\n",
      "9   0.860465  0.400000       0.40     0.4\n",
      "10  0.883721  0.545455       0.50     0.6\n",
      "11  0.860465  0.400000       0.40     0.4\n",
      "12  0.860465  0.400000       0.40     0.4\n",
      "13  0.860465  0.400000       0.40     0.4\n",
      "14  0.860465  0.400000       0.40     0.4\n",
      "15  0.860465  0.400000       0.40     0.4\n",
      "16  0.860465  0.400000       0.40     0.4\n",
      "17  0.883721  0.444444       0.50     0.4\n",
      "18  0.906977  0.600000       0.60     0.6\n",
      "19  0.906977  0.600000       0.60     0.6\n",
      "20  0.883721  0.444444       0.50     0.4\n"
     ]
    }
   ],
   "source": [
    "# Select the best number of feaatures to include for training\n",
    "num_features_list = []\n",
    "accuracy_list = []\n",
    "precision_list = []\n",
    "recall_list =[]\n",
    "f1_list =[]\n",
    "\n",
    "\n",
    "\n",
    "for number in range(5,21):\n",
    "    num_features_list.append(number)\n",
    "    testing_list = []\n",
    "    new_list, score =  select_k_best(my_dataset, features_list, number)\n",
    "    testing_list = [\"poi\"] + new_list\n",
    "    clf_tse = GaussianNB()\n",
    "    clf, accuracy, precision, recall, f1, f2 = performance(clf_tse, my_dataset, testing_list)\n",
    "    accuracy_list.append(accuracy)\n",
    "    precision_list.append(precision)\n",
    "    recall_list.append(recall)\n",
    "    f1_list.append(f1)\n",
    "\n",
    "\n",
    "select_num_k_table = pd.DataFrame({\"Accuracy\": accuracy_list, \"Precision\": precision_list, \n",
    "                                   \"Recall\": recall_list, \"F1\": f1_list}, index = num_features_list )\n",
    "print \"The performance of different numbers of best features included in the model:\"\n",
    "print select_num_k_table\n"
   ]
  },
  {
   "cell_type": "markdown",
   "metadata": {},
   "source": [
    "After experimenting with including different numbers of best features in the model, the results shows that inlcuding 6/ 7/ 8 best features in the model provide the same and the best performance. In order to save memory and run time, only the 6 best features will be included in the model.  "
   ]
  },
  {
   "cell_type": "code",
   "execution_count": 17,
   "metadata": {
    "collapsed": false
   },
   "outputs": [
    {
     "name": "stdout",
     "output_type": "stream",
     "text": [
      "The six selected best features: \n",
      "                             Score\n",
      "exercised_stock_options  24.815080\n",
      "total_stock_value        24.182899\n",
      "bonus                    20.792252\n",
      "salary                   18.289684\n",
      "fraction_to_poi          16.409713\n",
      "deferred_income          11.458477\n",
      "\n",
      "The preformance before and after feature selection:\n",
      "                          Accuracy        F1  Precision  Recall\n",
      "Before feature selection  0.883721  0.444444        0.5     0.4\n",
      "After feature selection   0.880952  0.545455        0.6     0.5\n",
      "Improved:                -0.002769  0.101010        0.1     0.1\n"
     ]
    }
   ],
   "source": [
    "# select_k_best: number of features- 6\n",
    "new_features_list, score_list = select_k_best(data_dict, features_list, 6)\n",
    "print \"The six selected best features: \"\n",
    "select_k_best_table = pd.DataFrame({\"Score\": score_list}, index = new_features_list)\n",
    "print select_k_best_table\n",
    "print \"\"\n",
    "\n",
    "# update the feature list \n",
    "features_list = [\"poi\"] + new_features_list\n",
    "\n",
    "# The performance before and after the feature selection\n",
    "clf_afse = GaussianNB()\n",
    "clf_afse, accuracy, precision, recall, f1, f2 = performance(clf_afse, my_dataset, features_list)\n",
    "\n",
    "features_status_list = [\"Before feature selection\", \"After feature selection\", \"Improved:\"]\n",
    "accuracy_list = [accuracy_s, accuracy, -(accuracy_s - accuracy)]\n",
    "precision_list = [precision_s, precision, -(precision_s - precision)]\n",
    "recall_list =[recall_s, recall, -(recall_s - recall)]\n",
    "f1_list =[f1_s, f1, -(f1_s - f1)]\n",
    "     \n",
    "status_table = pd.DataFrame({\"Accuracy\": accuracy_list, \"Precision\": precision_list, \n",
    "                             \"Recall\": recall_list, \"F1\": f1_list}, index = features_status_list)\n",
    "print \"The preformance before and after feature selection:\"\n",
    "print status_table\n",
    "\n"
   ]
  },
  {
   "cell_type": "markdown",
   "metadata": {},
   "source": [
    "The 6 selected best features are the \"Exercised Stock Options\", \"Total Stock Value\", \"Bouns\", \"Salary\", \"Fraction to POI\" and \"Deferred Income\". The preformance table has clearly showed that the accuary, precision and F1 scores have improved after including only the 6 best features to train the model. "
   ]
  },
  {
   "cell_type": "markdown",
   "metadata": {},
   "source": [
    "### Algorithm Selection\n"
   ]
  },
  {
   "cell_type": "code",
   "execution_count": 18,
   "metadata": {
    "collapsed": false
   },
   "outputs": [
    {
     "name": "stdout",
     "output_type": "stream",
     "text": [
      "The preformance before and after feature selection:\n",
      "                      Accuracy        F1  Precision    Recall\n",
      "Gaussian Naive Bayes  0.880952  0.545455   0.600000  0.500000\n",
      "KMeans Clustering     0.880952  0.444444   0.666667  0.333333\n",
      "Decision Trees        0.857143  0.400000   0.500000  0.333333\n"
     ]
    }
   ],
   "source": [
    "### Task 4: Try a varity of classifiers\n",
    "### Please name your classifier clf for easy export below.\n",
    "### Note that if you want to do PCA or other multi-stage operations,\n",
    "### you'll need to use Pipelines. For more info:\n",
    "### http://scikit-learn.org/stable/modules/pipeline.html\n",
    "\n",
    "# Classifiers.\n",
    "# Naive Bayes:\n",
    "from sklearn.naive_bayes import GaussianNB\n",
    "clf_n = GaussianNB()\n",
    "clf_n, accuracy_n, precision_n, recall_n, f1_n, f2_n = performance(clf_n, my_dataset, features_list)\n",
    "\n",
    "# Decision Trees\n",
    "from sklearn import tree\n",
    "clf_d = tree.DecisionTreeClassifier()\n",
    "clf_d, accuracy_d, precision_d, recall_d, f1_d, f2_d = performance(clf_d, my_dataset, features_list)\n",
    "\n",
    "# K-means clustering\n",
    "from sklearn.cluster import KMeans\n",
    "clf_k = KMeans(n_clusters = 2)\n",
    "clf_k, accuracy_k, precision_k, recall_k, f1_k, f2_k = performance(clf_k, my_dataset, features_list)\n",
    "\n",
    "# The performance for algorithm selection\n",
    "classifiers_list = [\"Gaussian Naive Bayes\", \"KMeans Clustering\", \"Decision Trees\", ]\n",
    "accuracy_list = [accuracy_n, accuracy_k, accuracy_d] \n",
    "precision_list = [precision_n, precision_k, precision_d]\n",
    "recall_list =[recall_n, recall_k, recall_d]\n",
    "f1_list =[f1_n, f1_k, f1_d]\n",
    "     \n",
    "classifiers_table = pd.DataFrame({\"Accuracy\": accuracy_list, \"Precision\": precision_list, \n",
    "                             \"Recall\": recall_list, \"F1\": f1_list}, index = classifiers_list)\n",
    "print \"The preformance before and after feature selection:\"\n",
    "print classifiers_table\n"
   ]
  },
  {
   "cell_type": "markdown",
   "metadata": {},
   "source": [
    "Three different algorithms, Gaussian Naive Bayes, Decision Trees and KMeans Clustering, have been attempted. Gaussian Naive Bayes has the highest F1 score, thus has the best performance. Although Decision Trees's performance is pretty close to KMeans Clustering's, its performance is the worst among these three algorithms. \n",
    "\n",
    "Although Gaussian Naive Bayes has the best performance, it already has a decent preformance and only has one parameter to tune. As Decision Tree has the worst performance and it has several parameters, such as criterion, splitter, max_features, it will be tuned to improve its performance and compare the performance with the other two algorithms again."
   ]
  },
  {
   "cell_type": "markdown",
   "metadata": {},
   "source": [
    "\n",
    "### Tuning"
   ]
  },
  {
   "cell_type": "code",
   "execution_count": 19,
   "metadata": {
    "collapsed": false
   },
   "outputs": [],
   "source": [
    "### Task 5: Tune your classifier to achieve better than .3 precision and recall \n",
    "### using our testing script. Check the tester.py script in the final project\n",
    "### folder for details on the evaluation method, especially the test_classifier\n",
    "### function. Because of the small size of the dataset, the script uses\n",
    "### stratified shuffle split cross validation. For more info: \n",
    "### http://scikit-learn.org/stable/modules/generated/sklearn.cross_validation.StratifiedShuffleSplit.html\n",
    "\n",
    "from sklearn.model_selection import GridSearchCV\n",
    "parameters = {'criterion':('gini', 'entropy'),\n",
    "              'splitter':('best', 'random'), \n",
    "              'max_features':('auto', 'sqrt', 'log2')}\n",
    "clf_g = tree.DecisionTreeClassifier()\n",
    "clf_g = GridSearchCV(clf_g, parameters)\n",
    "clf_g, accuracy_a, precision_a, recall_a, f1_a, f2_a = performance(clf_g, my_dataset, features_list)\n"
   ]
  },
  {
   "cell_type": "code",
   "execution_count": 20,
   "metadata": {
    "collapsed": false
   },
   "outputs": [
    {
     "name": "stdout",
     "output_type": "stream",
     "text": [
      "{'max_features': 'auto', 'splitter': 'best', 'criterion': 'gini'}\n",
      "DecisionTreeClassifier(class_weight=None, criterion='gini', max_depth=None,\n",
      "            max_features='auto', max_leaf_nodes=None,\n",
      "            min_impurity_split=1e-07, min_samples_leaf=1,\n",
      "            min_samples_split=2, min_weight_fraction_leaf=0.0,\n",
      "            presort=False, random_state=None, splitter='best')\n"
     ]
    }
   ],
   "source": [
    "print clf_g.best_params_ \n",
    "print clf_g.best_estimator_\n"
   ]
  },
  {
   "cell_type": "code",
   "execution_count": 25,
   "metadata": {
    "collapsed": false
   },
   "outputs": [
    {
     "name": "stdout",
     "output_type": "stream",
     "text": [
      "The preformance before and after tuning:\n",
      "                            Accuracy        F1  Precision    Recall\n",
      "Gaussian Naive Bayes        0.880952  0.545455   0.600000  0.500000\n",
      "KMeans Clustering           0.880952  0.444444   0.666667  0.333333\n",
      "Decision Trees              0.857143  0.400000   0.500000  0.333333\n",
      "Decision Tree after tuning  0.857143  0.500000   0.500000  0.500000\n"
     ]
    }
   ],
   "source": [
    "# Performance of Decision Tree after tuning\n",
    "clf_g = tree.DecisionTreeClassifier(criterion='gini', max_features='auto', splitter='best')\n",
    "clf_g, accuracy_g, precision_g, recall_g, f1_g, f2_g = performance(clf_g, my_dataset, features_list)\n",
    "\n",
    "# The performance for algorithm selection\n",
    "classifiers_list = [\"Gaussian Naive Bayes\", \"KMeans Clustering\", \"Decision Trees\", \"Decision Tree after tuning\"]\n",
    "accuracy_list = [accuracy_n, accuracy_k, accuracy_d, accuracy_g] \n",
    "precision_list = [precision_n, precision_k, precision_d, precision_g]\n",
    "recall_list =[recall_n, recall_k, recall_d, recall_g]\n",
    "f1_list =[f1_n, f1_k, f1_d, recall_g]\n",
    "     \n",
    "classifiers_table = pd.DataFrame({\"Accuracy\": accuracy_list, \"Precision\": precision_list, \n",
    "                             \"Recall\": recall_list, \"F1\": f1_list}, index = classifiers_list)\n",
    "print \"The preformance before and after tuning:\"\n",
    "print classifiers_table\n"
   ]
  },
  {
   "cell_type": "markdown",
   "metadata": {},
   "source": [
    "Machine learning algorithms are parameterized and modification of those parameters can influence the outcome of the learning process. Tuning an algorithm is a process of finding the best parameters combination, and thus enable the algorithm to perform the best.\n",
    "\n",
    "GridSearchCV is attempted to tune the Decision Tree classifier. It is a way of systematically working through multiple combinations of parameter tunes and cross-validating to determine which tune gives the best performance. Three  Decision Tree parameters, criterion, splitter, max_features, have been tuned. And the performance of the Decision Tree classifier has improved. However, the performance of Gaussian Naive Bayes is still the best among these algorithms. Thus, it will be picked for final analysis. "
   ]
  },
  {
   "cell_type": "markdown",
   "metadata": {},
   "source": [
    "### Validation"
   ]
  },
  {
   "cell_type": "code",
   "execution_count": 26,
   "metadata": {
    "collapsed": true
   },
   "outputs": [],
   "source": [
    "# Performance\n",
    "import pickle\n",
    "import sys\n",
    "from sklearn.cross_validation import StratifiedShuffleSplit\n",
    "from feature_format import featureFormat, targetFeatureSplit\n",
    "\n",
    "def validating_performance(clf, dataset, feature_list, folds = 1000):\n",
    "    data = featureFormat(dataset, feature_list, sort_keys = True)\n",
    "    labels, features = targetFeatureSplit(data)\n",
    "    cv = StratifiedShuffleSplit(labels, folds, random_state = 42)\n",
    "    true_negatives = 0\n",
    "    false_negatives = 0\n",
    "    true_positives = 0\n",
    "    false_positives = 0\n",
    "    for train_idx, test_idx in cv: \n",
    "        features_train = []\n",
    "        features_test  = []\n",
    "        labels_train   = []\n",
    "        labels_test    = []\n",
    "        for ii in train_idx:\n",
    "            features_train.append( features[ii] )\n",
    "            labels_train.append( labels[ii] )\n",
    "        for jj in test_idx:\n",
    "            features_test.append( features[jj] )\n",
    "            labels_test.append( labels[jj] )\n",
    "        \n",
    "        ### fit the classifier using training set, and test on test set\n",
    "        clf.fit(features_train, labels_train)\n",
    "        predictions = clf.predict(features_test)\n",
    "        for prediction, truth in zip(predictions, labels_test):\n",
    "            if prediction == 0 and truth == 0:\n",
    "                true_negatives += 1\n",
    "            elif prediction == 0 and truth == 1:\n",
    "                false_negatives += 1\n",
    "            elif prediction == 1 and truth == 0:\n",
    "                false_positives += 1\n",
    "            elif prediction == 1 and truth == 1:\n",
    "                true_positives += 1\n",
    "            else:\n",
    "                print \"Warning: Found a predicted label not == 0 or 1.\"\n",
    "                print \"All predictions should take value 0 or 1.\"\n",
    "                print \"Evaluating performance for processed predictions:\"\n",
    "                break\n",
    "    try:\n",
    "        total_predictions = true_negatives + false_negatives + false_positives + true_positives\n",
    "        accuracy = 1.0*(true_positives + true_negatives)/total_predictions\n",
    "        precision = 1.0*true_positives/(true_positives+false_positives)\n",
    "        recall = 1.0*true_positives/(true_positives+false_negatives)\n",
    "        f1 = 2.0 * true_positives/(2*true_positives + false_positives+false_negatives)\n",
    "        f2 = (1+2.0*2.0) * precision*recall/(4*precision + recall)\n",
    "        return clf, accuracy, precision, recall, f1, f2\n",
    "    except:\n",
    "        print \"Got a divide by zero when trying out:\", clf\n",
    "        print \"Precision or recall may be undefined due to a lack of true positive predicitons.\"\n"
   ]
  },
  {
   "cell_type": "code",
   "execution_count": 27,
   "metadata": {
    "collapsed": false
   },
   "outputs": [
    {
     "name": "stdout",
     "output_type": "stream",
     "text": [
      "Performance of GaussianNB(priors=None)\n",
      "     Accuracy: 0.8605 ,Precision: 0.515719063545 ,Recall: 0.3855 ,F1: 0.441201716738\n"
     ]
    }
   ],
   "source": [
    "# Performance after validation\n",
    "clf_nv = GaussianNB()\n",
    "clf, accuracy, precision, recall, f1, f2 = validating_performance(clf_nv, my_dataset, features_list, folds = 1000)\n",
    "print_performance(clf, accuracy, precision, recall, f1, f2)\n"
   ]
  },
  {
   "cell_type": "markdown",
   "metadata": {},
   "source": [
    "Validation is a process used to evaluate the trained model with a testing dataset. The goal of it is to test the generalization ability of a trained model. A dataset will be split into 2 subsets, the training and testing subset. The data in the training subset will be used to train the classifier, and new data from the testing subset will be used to estimate how well the classifier has been trained. If the same data has been used to both train and test a classifer, the classifier will be able to report the correct result almost every time when you ask it to classfy an instance. Because the model is making prediction to data that it has \"seen\" before an used to create the model. However, when lacking new data, data that is \"unseen\" by the model, to test the classfier, there are no indicators to show the accuracy of the algorithm, how well the model can generalize to new data, and whether or not the model overfits or underfits the training data. \n",
    "\n",
    "Stratified ShuffleSplit cross-validation has been used to perform validation. This validation method is a merge of Stratified K-Folds cross-validation and ShuffleSplit cross validation. This validator will return stratified randomized folds, and the folds will be made by preserving the percentage of samples for each class. Cross validation is adeqiate here as it can be to adjust and prevent the class imbalance problem in this dataset."
   ]
  },
  {
   "cell_type": "code",
   "execution_count": 28,
   "metadata": {
    "collapsed": false
   },
   "outputs": [],
   "source": [
    "### Task 6: Dump your classifier, dataset, and features_list so anyone can\n",
    "### check your results. You do not need to change anything below, but make sure\n",
    "### that the version of poi_id.py that you submit can be run on its own and\n",
    "### generates the necessary .pkl files for validating your results.\n",
    "\n",
    "dump_classifier_and_data(clf, my_dataset, features_list)"
   ]
  }
 ],
 "metadata": {
  "kernelspec": {
   "display_name": "Python 2",
   "language": "python",
   "name": "python2"
  },
  "language_info": {
   "codemirror_mode": {
    "name": "ipython",
    "version": 2
   },
   "file_extension": ".py",
   "mimetype": "text/x-python",
   "name": "python",
   "nbconvert_exporter": "python",
   "pygments_lexer": "ipython2",
   "version": "2.7.13"
  }
 },
 "nbformat": 4,
 "nbformat_minor": 2
}
